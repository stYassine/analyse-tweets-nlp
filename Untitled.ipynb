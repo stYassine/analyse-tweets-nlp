{
 "cells": [
  {
   "cell_type": "code",
   "execution_count": 61,
   "metadata": {},
   "outputs": [],
   "source": [
    "import numpy as np\n",
    "import matplotlib.pyplot as plt\n",
    "import tweepy\n",
    "from tweepy import OAuthHandler\n",
    "import re\n",
    "import pickle"
   ]
  },
  {
   "cell_type": "code",
   "execution_count": 62,
   "metadata": {},
   "outputs": [],
   "source": [
    "total_positive =0\n",
    "total_negative =0"
   ]
  },
  {
   "cell_type": "code",
   "execution_count": 63,
   "metadata": {},
   "outputs": [],
   "source": [
    "# Initialize Tokens\n",
    "consumer_key =\"YOUR_CONSUMER_KEY\"\n",
    "consumer_secret =\"YOUR_CONSUMER_SECRET\"\n",
    "access_token =\"YOUR_ACCESS_TOKEN\"\n",
    "access_secret =\"YOUR_ACCESS_SECRET\""
   ]
  },
  {
   "cell_type": "code",
   "execution_count": 64,
   "metadata": {},
   "outputs": [],
   "source": [
    "# Client Authentication\n",
    "auth =OAuthHandler(consumer_key, consumer_secret)\n",
    "auth.set_access_token(access_token, access_secret)"
   ]
  },
  {
   "cell_type": "code",
   "execution_count": 65,
   "metadata": {},
   "outputs": [],
   "source": [
    "args =['facebook']\n",
    "api =tweepy.API(auth, timeout=10)"
   ]
  },
  {
   "cell_type": "code",
   "execution_count": 66,
   "metadata": {},
   "outputs": [],
   "source": [
    "# Fetch Tweets\n",
    "tweets_list =[]\n",
    "query =args[0]\n",
    "if len(args) == 1:\n",
    "    for status in tweepy.Cursor(api.search, q=query+\" -filter:retweets\", lang=\"en\", result_type=\"recent\" ).items(100):\n",
    "        tweets_list.append(status.text)"
   ]
  },
  {
   "cell_type": "code",
   "execution_count": 67,
   "metadata": {},
   "outputs": [],
   "source": [
    "# import tf-idf & \n",
    "with open('tfidfmodel.pickle','rb') as f:\n",
    "    vectorizer =pickle.load(f)\n",
    "    \n",
    "with open('classifier.pickle','rb') as f:\n",
    "    classifier =pickle.load(f)"
   ]
  },
  {
   "cell_type": "code",
   "execution_count": 68,
   "metadata": {},
   "outputs": [
    {
     "data": {
      "text/plain": [
       "array([1])"
      ]
     },
     "execution_count": 68,
     "metadata": {},
     "output_type": "execute_result"
    }
   ],
   "source": [
    "# test sample\n",
    "sample =vectorizer.transform(['Your Are A good Person, Thank you so much']).toarray()\n",
    "classifier.predict(sample)"
   ]
  },
  {
   "cell_type": "code",
   "execution_count": 69,
   "metadata": {},
   "outputs": [
    {
     "name": "stdout",
     "output_type": "stream",
     "text": [
      "the kenya gastrodiplomacy event in turkey was lit we thank god that our guests had a good time learning how to co https t co g upmuw   :  [1]\n",
      " skynews over to you facebook  :  [0]\n",
      " letsanthrpmrphz nprpolitics bretbaier facebook how about google and eric schmidt rigging the algorithms in favo https t co ex pd h   :  [0]\n",
      "powerful https t co io wbeqrte  :  [1]\n",
      "pdx ducks oregon takes on u on saturday at pm come watch with the uo alumni chapter at laddtaphousepdx op https t co jxuzsscnr   :  [1]\n",
      "check us out this sat nov hollywoodimprov a politics round table it s oval tho with snl s darrell hammond https t co umvjlt ejj  :  [1]\n",
      " elgatogaming brandy candy is the be newscaster of go check her out on wezel news https t co b zk ky yc  :  [1]\n",
      "imagine all the people living life in peace you may say that i am a dreamer but i am not the only one i hope someday   :  [1]\n",
      "twitter s political ad ban seems smart and if facebook suddenly about turns this week it ll put a big hole in some https t co z s wziqgh  :  [0]\n",
      "ban facebook political ads https t co pic knggyt  :  [1]\n",
      " msnbc do you hear that facebook deletefacebook  :  [0]\n",
      "la day on the mowers for the season very bitter sweet this summer was a whirlwind but i learned quite a bit w https t co l xs feapv  :  [1]\n",
      "twitter will ban all political advertising starting in november   :  [1]\n",
      "remembering back years ago they were doing lots of ect in carrier and they put me in there too strange i c https t co ntd sthuau  :  [1]\n",
      " b_rosh_ hoosiers hillaryclinton facebook jack what you can not get tho glasses in russia vlad https t co nx laufeqb  :  [0]\n",
      "me time with suna darkanat gettingmysassyback at maxx studio salon amp spa https t co uh u b el   :  [0]\n",
      "another ofatv club builds on its ability to create professional relationships safer trails responsible riders and https t co zbe lmssek  :  [0]\n",
      "tonight at midnight sun https t co pfkh huinf  :  [1]\n",
      "facebook will have to a themselves if for profit political ads are worth the recent growth   :  [1]\n",
      " alt_doj twitter facebook i dumped facebook a while ago can t even look at zuck  :  [0]\n",
      "too cute https t co lteilz   :  [1]\n",
      "and yet the mo toxic messenger of all is still allowed to spew his illiterate hate lies and raci but ok https t co sjxng rgf  :  [1]\n",
      "facebook how about you https t co v slmxosf  :  [1]\n",
      "picture me talking to felix the way tariq speak to gho you can not can you becau tht shit would ve never happe https t co z o rk   :  [0]\n",
      "philip nichols courtney schamehorn juan schamehorn zack retzer i didn t want morgan left out lol https t co ud o rmbb  :  [1]\n",
      "sharing the self employed   :  [0]\n",
      "facebook returns to profit growth as ad revenues surge https t co rsigsqu um https t co fvw ijrvsd  :  [1]\n",
      "be careful who you help https t co wcep z   :  [1]\n",
      " joenbc imagine if that erudite pos shyt from facebook actually cared  :  [0]\n",
      "after movie via twitter instagram y facebook nuestra hermo steph khadijha https t co hajplna py  :  [1]\n",
      "happy birfday my g https t co jd uwbuecl  :  [1]\n",
      "holy shit this is actually huge news no matter which side of the aisle you sit on now if that alien fuck zuckerbe https t co hdd w mo  :  [1]\n",
      " a mutual friend s mother is being detained while she deals with cancer plea sign   :  [1]\n",
      "will facebook follow this example of putting the welfare of our democracy over https t co kk tkwxnhh  :  [1]\n",
      "very interesting and not surprising my only issue is that the blogger failed to point out the need for interprofes https t co m szpgv lq  :  [0]\n",
      " karaswisher jack facebook i think the little wink emoji supports he had fb in his intentions  :  [0]\n",
      "good now how about fb https t co g f cuys   :  [1]\n",
      "my hot take twitter banning paid political advertising will hurt the tories if facebook follow suit unlikely th https t co wqmjvm jdt  :  [1]\n",
      " pjnotpam nbcpolitics facebook practically what does practically off facebook even mean you either still u https t co ok g qxa   :  [0]\n",
      "exactly https t co pjr pacn   :  [1]\n",
      " snowden jack facebook doe t this ju hit the gas on slipping down the slope of what constitutes political https t co jxfmfajxv  :  [1]\n",
      "trouble tongues workshop https t co lchpq r sonnygreenuk https t co rualn hzec  :  [1]\n",
      "interesting twitter is taking this approach especially thinking about how facebook was used to target and spread li   :  [1]\n",
      " mean i gue it is better than nothing and better than facebook s stance for sure ju feels like eating around the edges is all   :  [0]\n",
      " jack thank you for not being the corrupt cowards at facebook deletefacebook  :  [1]\n",
      " check out all of the photos from our fir entrepreneurial alumni speaker series event of the season with suraj https t co xcwwzp ole  :  [1]\n",
      "any of my nerdy facebook friends collect or own pvc figures   :  [1]\n",
      "its ju a game lol   :  [0]\n",
      " damocrat cribblesvurt meanwhile at facebook hq yeah that shit is fine and breitbart is a legit news source fml   :  [1]\n",
      "there is always a scandal when it comes to trump lol https t co vksuz n   :  [1]\n",
      " katelanpfau kacedawnh this is me at dusty and susies on pond creek years ago lmao u seen the video on facebook earlier   :  [1]\n",
      " buzzfeednews they re facebook users yet https t co xotdex x   :  [1]\n",
      "roy mrperfect mccree iii   :  [0]\n",
      "your move facebook   :  [0]\n",
      " facebook learn something biatch   :  [0]\n",
      "hope over and have a look at this site there are some amazing images and there is of mine in this po   :  [1]\n",
      "facebook ad revenue withstands controversies technology  :  [1]\n",
      " facebook fbnewsroom hey fb twitter is banning all political ads starting next month we wanting see facebook do this too   :  [1]\n",
      "in the words of sir richard branson if somebody offers you an amazing opportunity but you are not sure you can d https t co ufmgeb gm  :  [1]\n",
      "apple and facebook earnings reactions more economic data things to watch thursday cnbc   :  [1]\n",
      "facebook shares ri on strong q users up to b https t co bctcgek aq  :  [1]\n",
      " whatever facebook never helped me decide who to vote for https t co evz umqpl  :  [0]\n",
      " ghoshd twitter policy facebook google banning political advertising may be an overcorrection but it is bette https t co ibfr lkcjn  :  [1]\n",
      "bruh i swear between facebook amp twitter my entertainment is never lacking fir saints twitter was on here havin https t co nue uynqnp  :  [1]\n",
      "looking at you facebook https t co hmxr s gx   :  [1]\n",
      "who greenlighted facebook messenger s phone call feature   :  [1]\n",
      "your move facebook   :  [0]\n",
      "𝐓𝐰𝐢𝐭𝐭𝐞𝐫 𝐖𝐢𝐥𝐥 𝐁𝐚𝐧 𝐀𝐥𝐥 𝐏𝐨𝐥𝐢𝐭𝐢𝐜𝐚𝐥 𝐀𝐝𝐬 𝐂 𝐄 𝐎 𝐃𝐨𝐫𝐬𝐞𝐲 𝐒𝐚𝐲𝐬 jack this is smart twitter does not need the controvers   :  [0]\n",
      " buddy shared this on facebook awesome tribute to johnwitherspoon https t co u slo lz   :  [0]\n",
      "next men s team match away at runwellsportsfc saturday november nd pm bbcessex premier cup runw https t co q dcvmmckf  :  [1]\n",
      "bruh yall need to check out t i s late podca he has a brother on there by the name of shaka sengor he   :  [0]\n",
      "today https t co k s cgo  :  [1]\n",
      "sad truth societal discourage phobia https t co poc xuctz   :  [1]\n",
      " carolecadwalla ban facebook political ads  :  [1]\n",
      "aoc to zuckerberg why is a white supremaci tied publication fact checking for facebook https t co jsckye ymr  :  [1]\n",
      "this sunday at pm bookendsmedia join northwestern university s ma in writing amp mfa in pro and poetry programs   :  [0]\n",
      "twitter bans political ads after facebook refused to do https t co fjwriywgm  :  [1]\n",
      "your move facebook   :  [0]\n",
      " itzstephielynne twitter steph lowkey facebook steph   :  [0]\n",
      "listennnnnnn hereeeeeeee i m going hear me   :  [0]\n",
      "excellent call now if only facebook would see sen and follow suit https t co x vf vy  :  [1]\n",
      " jack very smart move facebook are you listening   :  [1]\n",
      " have an actual og facebook url lol  :  [1]\n",
      "it s not for everyone but who am i to judge the way others love people if they re all happy in that relationship https t co yb qem a   :  [1]\n",
      "smart for busine smart for democracy dumb looking for facebook the perfect storm https t co kaz porv   :  [1]\n",
      " jack hey facebook are you listening it s your turn   :  [1]\n",
      "love burgoo and this is a chance to support local restaurants and a great non profit https t co o g wb cg  :  [1]\n",
      "eating dinner at davio s logan https t co cipegrswg   :  [1]\n",
      " busine shamele and greedy facebook   :  [0]\n",
      " gerrybhoy frankluntz facebook instead of taking on bots trolls and misleading and outright fal political a https t co vcr vtjfbk  :  [1]\n",
      "at watford gap   :  [0]\n",
      "nine years ago i was on location filming my fir project for film school and my life changed forever https t co gwyue v qh  :  [1]\n",
      " colinswood karaswisher jack facebook and buy fake accounts by the thousands to amplify their bs lies   :  [1]\n",
      "would you https t co u oz m fk  :  [0]\n",
      "your turn facebook https t co ljwfp ksto  :  [1]\n",
      " jack holy sht this is a burning indictment of facebook self serving policies   :  [0]\n",
      "my team is on i have not met the majority of my team in person they found me online we all live in differen https t co ich wiozer  :  [1]\n",
      " harpandsword nwo rachel_cheung lokinhei do normal citizens have keys to turn off the traffic light vi https t co qrobebqt   :  [1]\n",
      "hey facebook you hear this instead of doubling down on lying political ads how about if you ju aboli it alto https t co bilqvvrmz  :  [1]\n",
      "if you re a mother amp you re out here still fighting or arguing on facebook telling other women pull up   :  [0]\n"
     ]
    }
   ],
   "source": [
    "# Preprocessing the tweets\n",
    "for tweet in tweets_list:\n",
    "    tweet =re.sub(r\"^https://t.co/[a-zA-Z09]*\\s\", \" \", tweet)\n",
    "    tweet =re.sub(r\"\\s+https://t.co/[a-zA-Z09]*\\s\", \" \", tweet)\n",
    "    tweet =re.sub(r\"\\s+https://t.co/[a-zA-Z09]*$\", \" \", tweet)\n",
    "    tweet =tweet.lower()\n",
    "    tweet =re.sub(r\"that's\", \"that is\", tweet)\n",
    "    tweet =re.sub(r\"there's\",\"there is\", tweet)\n",
    "    tweet =re.sub(r\"what's\",\"what is\", tweet)\n",
    "    tweet =re.sub(r\"where's\",\"where is\", tweet)\n",
    "    tweet =re.sub(r\"it's\",\"it is\", tweet)\n",
    "    tweet =re.sub(r\"who's\",\"who is\", tweet)\n",
    "    tweet =re.sub(r\"i'm\",\"i am\", tweet)\n",
    "    tweet =re.sub(r\"she's\",\"she is\", tweet)\n",
    "    tweet =re.sub(r\"he's\",\"he is\", tweet)\n",
    "    tweet =re.sub(r\"they're\",\"they are\", tweet)\n",
    "    tweet =re.sub(r\"ain't\",\"am not\", tweet)\n",
    "    tweet =re.sub(r\"wouldn't\",\"would not\", tweet)\n",
    "    tweet =re.sub(r\"shouldn't\",\"should not\", tweet)\n",
    "    tweet =re.sub(r\"can't\",\"can not\", tweet)\n",
    "    tweet =re.sub(r\"couldn't\",\"could not\", tweet)\n",
    "    tweet =re.sub(r\"won't\",\"will not\", tweet)\n",
    "    tweet =re.sub(r\"\\W\", \" \", tweet)\n",
    "    tweet =re.sub(r\"\\d\", \" \", tweet)\n",
    "    tweet =re.sub(r\"s+[a-z]\\s+\", \" \", tweet)\n",
    "    tweet =re.sub(r\"\\s+[a-z]$\", \" \", tweet)\n",
    "    tweet =re.sub(r\"^[a-z]\\s+\", \" \", tweet)\n",
    "    tweet =re.sub(r\"\\s+\", \" \", tweet)\n",
    "    sent =classifier.predict(vectorizer.transform([tweet]).toarray())\n",
    "    if sent == [1]:\n",
    "        total_positive +=1\n",
    "    else:\n",
    "        total_negative +=1\n",
    "    print(tweet, \" : \", sent)"
   ]
  },
  {
   "cell_type": "code",
   "execution_count": 70,
   "metadata": {},
   "outputs": [
    {
     "name": "stdout",
     "output_type": "stream",
     "text": [
      "Positive :  67\n",
      "Negative :  33\n"
     ]
    }
   ],
   "source": [
    "print('Positive : ', total_positive)\n",
    "print('Negative : ', total_negative)"
   ]
  },
  {
   "cell_type": "code",
   "execution_count": 73,
   "metadata": {},
   "outputs": [
    {
     "data": {
      "image/png": "[encoded data removed]",
      "text/plain": [
       "<Figure size 432x288 with 1 Axes>"
      ]
     },
     "metadata": {
      "needs_background": "light"
     },
     "output_type": "display_data"
    }
   ],
   "source": [
    "objects =['Positive','Negative']\n",
    "y_pos =np.arange(len(objects))\n",
    "\n",
    "plt.bar(y_pos, [total_positive, total_negative], alpha=0.5)\n",
    "plt.xticks(y_pos, objects)\n",
    "plt.title('Number of positive & negative tweets')\n",
    "plt.show()"
   ]
  },
  {
   "cell_type": "code",
   "execution_count": null,
   "metadata": {},
   "outputs": [],
   "source": []
  }
 ],
 "metadata": {
  "kernelspec": {
   "display_name": "Python 3",
   "language": "python",
   "name": "python3"
  },
  "language_info": {
   "codemirror_mode": {
    "name": "ipython",
    "version": 3
   },
   "file_extension": ".py",
   "mimetype": "text/x-python",
   "name": "python",
   "nbconvert_exporter": "python",
   "pygments_lexer": "ipython3",
   "version": "3.7.0"
  }
 },
 "nbformat": 4,
 "nbformat_minor": 2
}
